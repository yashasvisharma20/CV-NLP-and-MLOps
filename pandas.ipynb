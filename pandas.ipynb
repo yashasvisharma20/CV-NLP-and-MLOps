{
  "metadata": {
    "kernelspec": {
      "name": "python",
      "display_name": "Python (Pyodide)",
      "language": "python"
    },
    "language_info": {
      "codemirror_mode": {
        "name": "python",
        "version": 3
      },
      "file_extension": ".py",
      "mimetype": "text/x-python",
      "name": "python",
      "nbconvert_exporter": "python",
      "pygments_lexer": "ipython3",
      "version": "3.8"
    }
  },
  "nbformat_minor": 5,
  "nbformat": 4,
  "cells": [
    {
      "id": "69669ad4-4ee0-4b76-b03a-182c1d5fa38d",
      "cell_type": "code",
      "source": "import pandas as pd\nimport numpy as np",
      "metadata": {
        "trusted": true
      },
      "outputs": [],
      "execution_count": 3
    },
    {
      "id": "f8561a44-cdf9-429a-a9ea-50a8f8f41ae7",
      "cell_type": "code",
      "source": "weather_data = {\n    'Day' : ['01/04/2025','02/04/2025','03/04/2025','04/04/2025','05/04/2025'],\n    'Temperature' : [32,33,33,35,38],\n    'Windspeed' : [6,7,2,7,4],\n    'Event' : ['Rain','Rain','Sunny','Sunny','Sunny']\n}\ndf = pd.DataFrame(weather_data)\ndf",
      "metadata": {
        "trusted": true
      },
      "outputs": [
        {
          "execution_count": 4,
          "output_type": "execute_result",
          "data": {
            "text/plain": "          Day  Temperature  Windspeed  Event\n0  01/04/2025           32          6   Rain\n1  02/04/2025           33          7   Rain\n2  03/04/2025           33          2  Sunny\n3  04/04/2025           35          7  Sunny\n4  05/04/2025           38          4  Sunny",
            "text/html": "<div>\n<style scoped>\n    .dataframe tbody tr th:only-of-type {\n        vertical-align: middle;\n    }\n\n    .dataframe tbody tr th {\n        vertical-align: top;\n    }\n\n    .dataframe thead th {\n        text-align: right;\n    }\n</style>\n<table border=\"1\" class=\"dataframe\">\n  <thead>\n    <tr style=\"text-align: right;\">\n      <th></th>\n      <th>Day</th>\n      <th>Temperature</th>\n      <th>Windspeed</th>\n      <th>Event</th>\n    </tr>\n  </thead>\n  <tbody>\n    <tr>\n      <th>0</th>\n      <td>01/04/2025</td>\n      <td>32</td>\n      <td>6</td>\n      <td>Rain</td>\n    </tr>\n    <tr>\n      <th>1</th>\n      <td>02/04/2025</td>\n      <td>33</td>\n      <td>7</td>\n      <td>Rain</td>\n    </tr>\n    <tr>\n      <th>2</th>\n      <td>03/04/2025</td>\n      <td>33</td>\n      <td>2</td>\n      <td>Sunny</td>\n    </tr>\n    <tr>\n      <th>3</th>\n      <td>04/04/2025</td>\n      <td>35</td>\n      <td>7</td>\n      <td>Sunny</td>\n    </tr>\n    <tr>\n      <th>4</th>\n      <td>05/04/2025</td>\n      <td>38</td>\n      <td>4</td>\n      <td>Sunny</td>\n    </tr>\n  </tbody>\n</table>\n</div>"
          },
          "metadata": {}
        }
      ],
      "execution_count": 4
    },
    {
      "id": "a77df6a9-8ac6-4971-93b3-3734e8fba266",
      "cell_type": "code",
      "source": "df.shape",
      "metadata": {
        "trusted": true
      },
      "outputs": [
        {
          "execution_count": 5,
          "output_type": "execute_result",
          "data": {
            "text/plain": "(5, 4)"
          },
          "metadata": {}
        }
      ],
      "execution_count": 5
    },
    {
      "id": "9203ed6c-33d0-401c-b0eb-583be3c6e90b",
      "cell_type": "code",
      "source": "df.head(2)",
      "metadata": {
        "trusted": true
      },
      "outputs": [
        {
          "execution_count": 6,
          "output_type": "execute_result",
          "data": {
            "text/plain": "          Day  Temperature  Windspeed Event\n0  01/04/2025           32          6  Rain\n1  02/04/2025           33          7  Rain",
            "text/html": "<div>\n<style scoped>\n    .dataframe tbody tr th:only-of-type {\n        vertical-align: middle;\n    }\n\n    .dataframe tbody tr th {\n        vertical-align: top;\n    }\n\n    .dataframe thead th {\n        text-align: right;\n    }\n</style>\n<table border=\"1\" class=\"dataframe\">\n  <thead>\n    <tr style=\"text-align: right;\">\n      <th></th>\n      <th>Day</th>\n      <th>Temperature</th>\n      <th>Windspeed</th>\n      <th>Event</th>\n    </tr>\n  </thead>\n  <tbody>\n    <tr>\n      <th>0</th>\n      <td>01/04/2025</td>\n      <td>32</td>\n      <td>6</td>\n      <td>Rain</td>\n    </tr>\n    <tr>\n      <th>1</th>\n      <td>02/04/2025</td>\n      <td>33</td>\n      <td>7</td>\n      <td>Rain</td>\n    </tr>\n  </tbody>\n</table>\n</div>"
          },
          "metadata": {}
        }
      ],
      "execution_count": 6
    },
    {
      "id": "a2ade51a-65a9-4555-a847-a6157f5c25e3",
      "cell_type": "code",
      "source": "df.tail(3)",
      "metadata": {
        "trusted": true
      },
      "outputs": [
        {
          "execution_count": 7,
          "output_type": "execute_result",
          "data": {
            "text/plain": "          Day  Temperature  Windspeed  Event\n2  03/04/2025           33          2  Sunny\n3  04/04/2025           35          7  Sunny\n4  05/04/2025           38          4  Sunny",
            "text/html": "<div>\n<style scoped>\n    .dataframe tbody tr th:only-of-type {\n        vertical-align: middle;\n    }\n\n    .dataframe tbody tr th {\n        vertical-align: top;\n    }\n\n    .dataframe thead th {\n        text-align: right;\n    }\n</style>\n<table border=\"1\" class=\"dataframe\">\n  <thead>\n    <tr style=\"text-align: right;\">\n      <th></th>\n      <th>Day</th>\n      <th>Temperature</th>\n      <th>Windspeed</th>\n      <th>Event</th>\n    </tr>\n  </thead>\n  <tbody>\n    <tr>\n      <th>2</th>\n      <td>03/04/2025</td>\n      <td>33</td>\n      <td>2</td>\n      <td>Sunny</td>\n    </tr>\n    <tr>\n      <th>3</th>\n      <td>04/04/2025</td>\n      <td>35</td>\n      <td>7</td>\n      <td>Sunny</td>\n    </tr>\n    <tr>\n      <th>4</th>\n      <td>05/04/2025</td>\n      <td>38</td>\n      <td>4</td>\n      <td>Sunny</td>\n    </tr>\n  </tbody>\n</table>\n</div>"
          },
          "metadata": {}
        }
      ],
      "execution_count": 7
    },
    {
      "id": "19b5a773-89b6-40f4-9412-7bd91bdc8808",
      "cell_type": "code",
      "source": "df[2:5]",
      "metadata": {
        "trusted": true
      },
      "outputs": [
        {
          "execution_count": 8,
          "output_type": "execute_result",
          "data": {
            "text/plain": "          Day  Temperature  Windspeed  Event\n2  03/04/2025           33          2  Sunny\n3  04/04/2025           35          7  Sunny\n4  05/04/2025           38          4  Sunny",
            "text/html": "<div>\n<style scoped>\n    .dataframe tbody tr th:only-of-type {\n        vertical-align: middle;\n    }\n\n    .dataframe tbody tr th {\n        vertical-align: top;\n    }\n\n    .dataframe thead th {\n        text-align: right;\n    }\n</style>\n<table border=\"1\" class=\"dataframe\">\n  <thead>\n    <tr style=\"text-align: right;\">\n      <th></th>\n      <th>Day</th>\n      <th>Temperature</th>\n      <th>Windspeed</th>\n      <th>Event</th>\n    </tr>\n  </thead>\n  <tbody>\n    <tr>\n      <th>2</th>\n      <td>03/04/2025</td>\n      <td>33</td>\n      <td>2</td>\n      <td>Sunny</td>\n    </tr>\n    <tr>\n      <th>3</th>\n      <td>04/04/2025</td>\n      <td>35</td>\n      <td>7</td>\n      <td>Sunny</td>\n    </tr>\n    <tr>\n      <th>4</th>\n      <td>05/04/2025</td>\n      <td>38</td>\n      <td>4</td>\n      <td>Sunny</td>\n    </tr>\n  </tbody>\n</table>\n</div>"
          },
          "metadata": {}
        }
      ],
      "execution_count": 8
    },
    {
      "id": "bee9f2c9-9474-4108-9d53-565fcbf5987b",
      "cell_type": "code",
      "source": "df.columns\n",
      "metadata": {
        "trusted": true
      },
      "outputs": [
        {
          "execution_count": 9,
          "output_type": "execute_result",
          "data": {
            "text/plain": "Index(['Day', 'Temperature', 'Windspeed', 'Event'], dtype='object')"
          },
          "metadata": {}
        }
      ],
      "execution_count": 9
    },
    {
      "id": "c372224c-df32-43e5-80c2-976df1665ed4",
      "cell_type": "code",
      "source": "print(df.Day)\ndf['Event']  # both are same",
      "metadata": {
        "trusted": true
      },
      "outputs": [
        {
          "name": "stdout",
          "output_type": "stream",
          "text": "0    01/04/2025\n1    02/04/2025\n2    03/04/2025\n3    04/04/2025\n4    05/04/2025\nName: Day, dtype: object\n"
        },
        {
          "execution_count": 10,
          "output_type": "execute_result",
          "data": {
            "text/plain": "0     Rain\n1     Rain\n2    Sunny\n3    Sunny\n4    Sunny\nName: Event, dtype: object"
          },
          "metadata": {}
        }
      ],
      "execution_count": 10
    },
    {
      "id": "353fdc33-8495-48f4-8586-11e0df9fcf99",
      "cell_type": "code",
      "source": "type(df['Event'])",
      "metadata": {
        "trusted": true
      },
      "outputs": [
        {
          "execution_count": 11,
          "output_type": "execute_result",
          "data": {
            "text/plain": "pandas.core.series.Series"
          },
          "metadata": {}
        }
      ],
      "execution_count": 11
    },
    {
      "id": "dccc5e6a-446b-42a3-b481-1993594a7599",
      "cell_type": "code",
      "source": "df[['Temperature','Day']]",
      "metadata": {
        "trusted": true
      },
      "outputs": [
        {
          "execution_count": 12,
          "output_type": "execute_result",
          "data": {
            "text/plain": "   Temperature         Day\n0           32  01/04/2025\n1           33  02/04/2025\n2           33  03/04/2025\n3           35  04/04/2025\n4           38  05/04/2025",
            "text/html": "<div>\n<style scoped>\n    .dataframe tbody tr th:only-of-type {\n        vertical-align: middle;\n    }\n\n    .dataframe tbody tr th {\n        vertical-align: top;\n    }\n\n    .dataframe thead th {\n        text-align: right;\n    }\n</style>\n<table border=\"1\" class=\"dataframe\">\n  <thead>\n    <tr style=\"text-align: right;\">\n      <th></th>\n      <th>Temperature</th>\n      <th>Day</th>\n    </tr>\n  </thead>\n  <tbody>\n    <tr>\n      <th>0</th>\n      <td>32</td>\n      <td>01/04/2025</td>\n    </tr>\n    <tr>\n      <th>1</th>\n      <td>33</td>\n      <td>02/04/2025</td>\n    </tr>\n    <tr>\n      <th>2</th>\n      <td>33</td>\n      <td>03/04/2025</td>\n    </tr>\n    <tr>\n      <th>3</th>\n      <td>35</td>\n      <td>04/04/2025</td>\n    </tr>\n    <tr>\n      <th>4</th>\n      <td>38</td>\n      <td>05/04/2025</td>\n    </tr>\n  </tbody>\n</table>\n</div>"
          },
          "metadata": {}
        }
      ],
      "execution_count": 12
    },
    {
      "id": "fad22799-415d-496e-b8ee-eb90b5d2e879",
      "cell_type": "code",
      "source": "df['Temperature'].max()",
      "metadata": {
        "trusted": true
      },
      "outputs": [
        {
          "execution_count": 13,
          "output_type": "execute_result",
          "data": {
            "text/plain": "np.int64(38)"
          },
          "metadata": {}
        }
      ],
      "execution_count": 13
    },
    {
      "id": "f4b702ab-58a2-4359-92c5-b079bb7f7ca1",
      "cell_type": "code",
      "source": "df['Day'][df.Temperature>33]",
      "metadata": {
        "trusted": true
      },
      "outputs": [
        {
          "execution_count": 14,
          "output_type": "execute_result",
          "data": {
            "text/plain": "3    04/04/2025\n4    05/04/2025\nName: Day, dtype: object"
          },
          "metadata": {}
        }
      ],
      "execution_count": 14
    },
    {
      "id": "e4b9635f-faf7-471b-b7e4-6ddf5d061cb0",
      "cell_type": "code",
      "source": "df.set_index('Day',inplace=True)\ndf",
      "metadata": {
        "trusted": true
      },
      "outputs": [
        {
          "execution_count": 15,
          "output_type": "execute_result",
          "data": {
            "text/plain": "            Temperature  Windspeed  Event\nDay                                      \n01/04/2025           32          6   Rain\n02/04/2025           33          7   Rain\n03/04/2025           33          2  Sunny\n04/04/2025           35          7  Sunny\n05/04/2025           38          4  Sunny",
            "text/html": "<div>\n<style scoped>\n    .dataframe tbody tr th:only-of-type {\n        vertical-align: middle;\n    }\n\n    .dataframe tbody tr th {\n        vertical-align: top;\n    }\n\n    .dataframe thead th {\n        text-align: right;\n    }\n</style>\n<table border=\"1\" class=\"dataframe\">\n  <thead>\n    <tr style=\"text-align: right;\">\n      <th></th>\n      <th>Temperature</th>\n      <th>Windspeed</th>\n      <th>Event</th>\n    </tr>\n    <tr>\n      <th>Day</th>\n      <th></th>\n      <th></th>\n      <th></th>\n    </tr>\n  </thead>\n  <tbody>\n    <tr>\n      <th>01/04/2025</th>\n      <td>32</td>\n      <td>6</td>\n      <td>Rain</td>\n    </tr>\n    <tr>\n      <th>02/04/2025</th>\n      <td>33</td>\n      <td>7</td>\n      <td>Rain</td>\n    </tr>\n    <tr>\n      <th>03/04/2025</th>\n      <td>33</td>\n      <td>2</td>\n      <td>Sunny</td>\n    </tr>\n    <tr>\n      <th>04/04/2025</th>\n      <td>35</td>\n      <td>7</td>\n      <td>Sunny</td>\n    </tr>\n    <tr>\n      <th>05/04/2025</th>\n      <td>38</td>\n      <td>4</td>\n      <td>Sunny</td>\n    </tr>\n  </tbody>\n</table>\n</div>"
          },
          "metadata": {}
        }
      ],
      "execution_count": 15
    },
    {
      "id": "1b200e2e-f4ed-44a3-84dd-2417c3a8f653",
      "cell_type": "code",
      "source": "df.loc['01/04/2025']",
      "metadata": {
        "trusted": true
      },
      "outputs": [
        {
          "execution_count": 16,
          "output_type": "execute_result",
          "data": {
            "text/plain": "Temperature      32\nWindspeed         6\nEvent          Rain\nName: 01/04/2025, dtype: object"
          },
          "metadata": {}
        }
      ],
      "execution_count": 16
    },
    {
      "id": "9d56bd3a-d389-4d6d-b7bf-d1231210b5d0",
      "cell_type": "code",
      "source": "df.reset_index(inplace=True)\ndf",
      "metadata": {
        "trusted": true
      },
      "outputs": [
        {
          "execution_count": 17,
          "output_type": "execute_result",
          "data": {
            "text/plain": "          Day  Temperature  Windspeed  Event\n0  01/04/2025           32          6   Rain\n1  02/04/2025           33          7   Rain\n2  03/04/2025           33          2  Sunny\n3  04/04/2025           35          7  Sunny\n4  05/04/2025           38          4  Sunny",
            "text/html": "<div>\n<style scoped>\n    .dataframe tbody tr th:only-of-type {\n        vertical-align: middle;\n    }\n\n    .dataframe tbody tr th {\n        vertical-align: top;\n    }\n\n    .dataframe thead th {\n        text-align: right;\n    }\n</style>\n<table border=\"1\" class=\"dataframe\">\n  <thead>\n    <tr style=\"text-align: right;\">\n      <th></th>\n      <th>Day</th>\n      <th>Temperature</th>\n      <th>Windspeed</th>\n      <th>Event</th>\n    </tr>\n  </thead>\n  <tbody>\n    <tr>\n      <th>0</th>\n      <td>01/04/2025</td>\n      <td>32</td>\n      <td>6</td>\n      <td>Rain</td>\n    </tr>\n    <tr>\n      <th>1</th>\n      <td>02/04/2025</td>\n      <td>33</td>\n      <td>7</td>\n      <td>Rain</td>\n    </tr>\n    <tr>\n      <th>2</th>\n      <td>03/04/2025</td>\n      <td>33</td>\n      <td>2</td>\n      <td>Sunny</td>\n    </tr>\n    <tr>\n      <th>3</th>\n      <td>04/04/2025</td>\n      <td>35</td>\n      <td>7</td>\n      <td>Sunny</td>\n    </tr>\n    <tr>\n      <th>4</th>\n      <td>05/04/2025</td>\n      <td>38</td>\n      <td>4</td>\n      <td>Sunny</td>\n    </tr>\n  </tbody>\n</table>\n</div>"
          },
          "metadata": {}
        }
      ],
      "execution_count": 17
    },
    {
      "id": "314c6b4c-f863-43ca-82de-ec33a74a9f6e",
      "cell_type": "code",
      "source": "df1 = pd.read_csv('car-sales-missing-data.csv')\ndf1",
      "metadata": {
        "trusted": true
      },
      "outputs": [
        {
          "execution_count": 18,
          "output_type": "execute_result",
          "data": {
            "text/plain": "     Make Colour  Odometer  Doors    Price\n0  Toyota  White  150043.0    4.0   $4,000\n1   Honda    Red   87899.0    4.0   $5,000\n2  Toyota   Blue       NaN    3.0   $7,000\n3     BMW  Black   11179.0    5.0  $22,000\n4  Nissan  White  213095.0    4.0   $3,500\n5  Toyota  Green       NaN    4.0   $4,500\n6   Honda    NaN       NaN    4.0   $7,500\n7   Honda   Blue       NaN    4.0      NaN\n8  Toyota  White   60000.0    NaN      NaN\n9     NaN  White   31600.0    4.0   $9,700",
            "text/html": "<div>\n<style scoped>\n    .dataframe tbody tr th:only-of-type {\n        vertical-align: middle;\n    }\n\n    .dataframe tbody tr th {\n        vertical-align: top;\n    }\n\n    .dataframe thead th {\n        text-align: right;\n    }\n</style>\n<table border=\"1\" class=\"dataframe\">\n  <thead>\n    <tr style=\"text-align: right;\">\n      <th></th>\n      <th>Make</th>\n      <th>Colour</th>\n      <th>Odometer</th>\n      <th>Doors</th>\n      <th>Price</th>\n    </tr>\n  </thead>\n  <tbody>\n    <tr>\n      <th>0</th>\n      <td>Toyota</td>\n      <td>White</td>\n      <td>150043.0</td>\n      <td>4.0</td>\n      <td>$4,000</td>\n    </tr>\n    <tr>\n      <th>1</th>\n      <td>Honda</td>\n      <td>Red</td>\n      <td>87899.0</td>\n      <td>4.0</td>\n      <td>$5,000</td>\n    </tr>\n    <tr>\n      <th>2</th>\n      <td>Toyota</td>\n      <td>Blue</td>\n      <td>NaN</td>\n      <td>3.0</td>\n      <td>$7,000</td>\n    </tr>\n    <tr>\n      <th>3</th>\n      <td>BMW</td>\n      <td>Black</td>\n      <td>11179.0</td>\n      <td>5.0</td>\n      <td>$22,000</td>\n    </tr>\n    <tr>\n      <th>4</th>\n      <td>Nissan</td>\n      <td>White</td>\n      <td>213095.0</td>\n      <td>4.0</td>\n      <td>$3,500</td>\n    </tr>\n    <tr>\n      <th>5</th>\n      <td>Toyota</td>\n      <td>Green</td>\n      <td>NaN</td>\n      <td>4.0</td>\n      <td>$4,500</td>\n    </tr>\n    <tr>\n      <th>6</th>\n      <td>Honda</td>\n      <td>NaN</td>\n      <td>NaN</td>\n      <td>4.0</td>\n      <td>$7,500</td>\n    </tr>\n    <tr>\n      <th>7</th>\n      <td>Honda</td>\n      <td>Blue</td>\n      <td>NaN</td>\n      <td>4.0</td>\n      <td>NaN</td>\n    </tr>\n    <tr>\n      <th>8</th>\n      <td>Toyota</td>\n      <td>White</td>\n      <td>60000.0</td>\n      <td>NaN</td>\n      <td>NaN</td>\n    </tr>\n    <tr>\n      <th>9</th>\n      <td>NaN</td>\n      <td>White</td>\n      <td>31600.0</td>\n      <td>4.0</td>\n      <td>$9,700</td>\n    </tr>\n  </tbody>\n</table>\n</div>"
          },
          "metadata": {}
        }
      ],
      "execution_count": 18
    },
    {
      "id": "515d72c9-9cb2-441d-8bc7-d5abf4d279d1",
      "cell_type": "markdown",
      "source": "**Handle Missing Values with Fillna**",
      "metadata": {}
    },
    {
      "id": "ffa77f9b-beaf-4395-ad54-a489364c81d8",
      "cell_type": "code",
      "source": "new_df = df1.fillna({\n    'Colour':'Other',\n    'Odometer':0,\n    'Doors':'Unknown',\n    'Price':0,\n    'Make':'Unknown'})\nnew_df",
      "metadata": {
        "trusted": true
      },
      "outputs": [
        {
          "execution_count": 19,
          "output_type": "execute_result",
          "data": {
            "text/plain": "      Make Colour  Odometer    Doors    Price\n0   Toyota  White  150043.0      4.0   $4,000\n1    Honda    Red   87899.0      4.0   $5,000\n2   Toyota   Blue       0.0      3.0   $7,000\n3      BMW  Black   11179.0      5.0  $22,000\n4   Nissan  White  213095.0      4.0   $3,500\n5   Toyota  Green       0.0      4.0   $4,500\n6    Honda  Other       0.0      4.0   $7,500\n7    Honda   Blue       0.0      4.0        0\n8   Toyota  White   60000.0  Unknown        0\n9  Unknown  White   31600.0      4.0   $9,700",
            "text/html": "<div>\n<style scoped>\n    .dataframe tbody tr th:only-of-type {\n        vertical-align: middle;\n    }\n\n    .dataframe tbody tr th {\n        vertical-align: top;\n    }\n\n    .dataframe thead th {\n        text-align: right;\n    }\n</style>\n<table border=\"1\" class=\"dataframe\">\n  <thead>\n    <tr style=\"text-align: right;\">\n      <th></th>\n      <th>Make</th>\n      <th>Colour</th>\n      <th>Odometer</th>\n      <th>Doors</th>\n      <th>Price</th>\n    </tr>\n  </thead>\n  <tbody>\n    <tr>\n      <th>0</th>\n      <td>Toyota</td>\n      <td>White</td>\n      <td>150043.0</td>\n      <td>4.0</td>\n      <td>$4,000</td>\n    </tr>\n    <tr>\n      <th>1</th>\n      <td>Honda</td>\n      <td>Red</td>\n      <td>87899.0</td>\n      <td>4.0</td>\n      <td>$5,000</td>\n    </tr>\n    <tr>\n      <th>2</th>\n      <td>Toyota</td>\n      <td>Blue</td>\n      <td>0.0</td>\n      <td>3.0</td>\n      <td>$7,000</td>\n    </tr>\n    <tr>\n      <th>3</th>\n      <td>BMW</td>\n      <td>Black</td>\n      <td>11179.0</td>\n      <td>5.0</td>\n      <td>$22,000</td>\n    </tr>\n    <tr>\n      <th>4</th>\n      <td>Nissan</td>\n      <td>White</td>\n      <td>213095.0</td>\n      <td>4.0</td>\n      <td>$3,500</td>\n    </tr>\n    <tr>\n      <th>5</th>\n      <td>Toyota</td>\n      <td>Green</td>\n      <td>0.0</td>\n      <td>4.0</td>\n      <td>$4,500</td>\n    </tr>\n    <tr>\n      <th>6</th>\n      <td>Honda</td>\n      <td>Other</td>\n      <td>0.0</td>\n      <td>4.0</td>\n      <td>$7,500</td>\n    </tr>\n    <tr>\n      <th>7</th>\n      <td>Honda</td>\n      <td>Blue</td>\n      <td>0.0</td>\n      <td>4.0</td>\n      <td>0</td>\n    </tr>\n    <tr>\n      <th>8</th>\n      <td>Toyota</td>\n      <td>White</td>\n      <td>60000.0</td>\n      <td>Unknown</td>\n      <td>0</td>\n    </tr>\n    <tr>\n      <th>9</th>\n      <td>Unknown</td>\n      <td>White</td>\n      <td>31600.0</td>\n      <td>4.0</td>\n      <td>$9,700</td>\n    </tr>\n  </tbody>\n</table>\n</div>"
          },
          "metadata": {}
        }
      ],
      "execution_count": 19
    },
    {
      "id": "33fc15c9-2869-40b1-8137-24d537d29d71",
      "cell_type": "code",
      "source": "new_df = df1.fillna(method='ffill')\nnew_df",
      "metadata": {
        "trusted": true
      },
      "outputs": [
        {
          "name": "stderr",
          "output_type": "stream",
          "text": "<ipython-input-20-43433c7040cf>:1: FutureWarning: DataFrame.fillna with 'method' is deprecated and will raise in a future version. Use obj.ffill() or obj.bfill() instead.\n  new_df = df1.fillna(method='ffill')\n"
        },
        {
          "execution_count": 20,
          "output_type": "execute_result",
          "data": {
            "text/plain": "     Make Colour  Odometer  Doors    Price\n0  Toyota  White  150043.0    4.0   $4,000\n1   Honda    Red   87899.0    4.0   $5,000\n2  Toyota   Blue   87899.0    3.0   $7,000\n3     BMW  Black   11179.0    5.0  $22,000\n4  Nissan  White  213095.0    4.0   $3,500\n5  Toyota  Green  213095.0    4.0   $4,500\n6   Honda  Green  213095.0    4.0   $7,500\n7   Honda   Blue  213095.0    4.0   $7,500\n8  Toyota  White   60000.0    4.0   $7,500\n9  Toyota  White   31600.0    4.0   $9,700",
            "text/html": "<div>\n<style scoped>\n    .dataframe tbody tr th:only-of-type {\n        vertical-align: middle;\n    }\n\n    .dataframe tbody tr th {\n        vertical-align: top;\n    }\n\n    .dataframe thead th {\n        text-align: right;\n    }\n</style>\n<table border=\"1\" class=\"dataframe\">\n  <thead>\n    <tr style=\"text-align: right;\">\n      <th></th>\n      <th>Make</th>\n      <th>Colour</th>\n      <th>Odometer</th>\n      <th>Doors</th>\n      <th>Price</th>\n    </tr>\n  </thead>\n  <tbody>\n    <tr>\n      <th>0</th>\n      <td>Toyota</td>\n      <td>White</td>\n      <td>150043.0</td>\n      <td>4.0</td>\n      <td>$4,000</td>\n    </tr>\n    <tr>\n      <th>1</th>\n      <td>Honda</td>\n      <td>Red</td>\n      <td>87899.0</td>\n      <td>4.0</td>\n      <td>$5,000</td>\n    </tr>\n    <tr>\n      <th>2</th>\n      <td>Toyota</td>\n      <td>Blue</td>\n      <td>87899.0</td>\n      <td>3.0</td>\n      <td>$7,000</td>\n    </tr>\n    <tr>\n      <th>3</th>\n      <td>BMW</td>\n      <td>Black</td>\n      <td>11179.0</td>\n      <td>5.0</td>\n      <td>$22,000</td>\n    </tr>\n    <tr>\n      <th>4</th>\n      <td>Nissan</td>\n      <td>White</td>\n      <td>213095.0</td>\n      <td>4.0</td>\n      <td>$3,500</td>\n    </tr>\n    <tr>\n      <th>5</th>\n      <td>Toyota</td>\n      <td>Green</td>\n      <td>213095.0</td>\n      <td>4.0</td>\n      <td>$4,500</td>\n    </tr>\n    <tr>\n      <th>6</th>\n      <td>Honda</td>\n      <td>Green</td>\n      <td>213095.0</td>\n      <td>4.0</td>\n      <td>$7,500</td>\n    </tr>\n    <tr>\n      <th>7</th>\n      <td>Honda</td>\n      <td>Blue</td>\n      <td>213095.0</td>\n      <td>4.0</td>\n      <td>$7,500</td>\n    </tr>\n    <tr>\n      <th>8</th>\n      <td>Toyota</td>\n      <td>White</td>\n      <td>60000.0</td>\n      <td>4.0</td>\n      <td>$7,500</td>\n    </tr>\n    <tr>\n      <th>9</th>\n      <td>Toyota</td>\n      <td>White</td>\n      <td>31600.0</td>\n      <td>4.0</td>\n      <td>$9,700</td>\n    </tr>\n  </tbody>\n</table>\n</div>"
          },
          "metadata": {}
        }
      ],
      "execution_count": 20
    },
    {
      "id": "28df65ea-5d67-4be3-b2ec-4b9eb4eb3c19",
      "cell_type": "markdown",
      "source": "**Use of Interpolar**",
      "metadata": {}
    },
    {
      "id": "9de49fc1-6f0d-43af-a499-971ed89e6401",
      "cell_type": "code",
      "source": "new_df= new_df.interpolate()\nnew_df",
      "metadata": {
        "trusted": true
      },
      "outputs": [
        {
          "name": "stderr",
          "output_type": "stream",
          "text": "<ipython-input-21-6291b7089cdf>:1: FutureWarning: DataFrame.interpolate with object dtype is deprecated and will raise in a future version. Call obj.infer_objects(copy=False) before interpolating instead.\n  new_df= new_df.interpolate()\n"
        },
        {
          "execution_count": 21,
          "output_type": "execute_result",
          "data": {
            "text/plain": "     Make Colour  Odometer  Doors    Price\n0  Toyota  White  150043.0    4.0   $4,000\n1   Honda    Red   87899.0    4.0   $5,000\n2  Toyota   Blue   87899.0    3.0   $7,000\n3     BMW  Black   11179.0    5.0  $22,000\n4  Nissan  White  213095.0    4.0   $3,500\n5  Toyota  Green  213095.0    4.0   $4,500\n6   Honda  Green  213095.0    4.0   $7,500\n7   Honda   Blue  213095.0    4.0   $7,500\n8  Toyota  White   60000.0    4.0   $7,500\n9  Toyota  White   31600.0    4.0   $9,700",
            "text/html": "<div>\n<style scoped>\n    .dataframe tbody tr th:only-of-type {\n        vertical-align: middle;\n    }\n\n    .dataframe tbody tr th {\n        vertical-align: top;\n    }\n\n    .dataframe thead th {\n        text-align: right;\n    }\n</style>\n<table border=\"1\" class=\"dataframe\">\n  <thead>\n    <tr style=\"text-align: right;\">\n      <th></th>\n      <th>Make</th>\n      <th>Colour</th>\n      <th>Odometer</th>\n      <th>Doors</th>\n      <th>Price</th>\n    </tr>\n  </thead>\n  <tbody>\n    <tr>\n      <th>0</th>\n      <td>Toyota</td>\n      <td>White</td>\n      <td>150043.0</td>\n      <td>4.0</td>\n      <td>$4,000</td>\n    </tr>\n    <tr>\n      <th>1</th>\n      <td>Honda</td>\n      <td>Red</td>\n      <td>87899.0</td>\n      <td>4.0</td>\n      <td>$5,000</td>\n    </tr>\n    <tr>\n      <th>2</th>\n      <td>Toyota</td>\n      <td>Blue</td>\n      <td>87899.0</td>\n      <td>3.0</td>\n      <td>$7,000</td>\n    </tr>\n    <tr>\n      <th>3</th>\n      <td>BMW</td>\n      <td>Black</td>\n      <td>11179.0</td>\n      <td>5.0</td>\n      <td>$22,000</td>\n    </tr>\n    <tr>\n      <th>4</th>\n      <td>Nissan</td>\n      <td>White</td>\n      <td>213095.0</td>\n      <td>4.0</td>\n      <td>$3,500</td>\n    </tr>\n    <tr>\n      <th>5</th>\n      <td>Toyota</td>\n      <td>Green</td>\n      <td>213095.0</td>\n      <td>4.0</td>\n      <td>$4,500</td>\n    </tr>\n    <tr>\n      <th>6</th>\n      <td>Honda</td>\n      <td>Green</td>\n      <td>213095.0</td>\n      <td>4.0</td>\n      <td>$7,500</td>\n    </tr>\n    <tr>\n      <th>7</th>\n      <td>Honda</td>\n      <td>Blue</td>\n      <td>213095.0</td>\n      <td>4.0</td>\n      <td>$7,500</td>\n    </tr>\n    <tr>\n      <th>8</th>\n      <td>Toyota</td>\n      <td>White</td>\n      <td>60000.0</td>\n      <td>4.0</td>\n      <td>$7,500</td>\n    </tr>\n    <tr>\n      <th>9</th>\n      <td>Toyota</td>\n      <td>White</td>\n      <td>31600.0</td>\n      <td>4.0</td>\n      <td>$9,700</td>\n    </tr>\n  </tbody>\n</table>\n</div>"
          },
          "metadata": {}
        }
      ],
      "execution_count": 21
    },
    {
      "id": "1a099324-9661-421e-b10f-c70f988342bf",
      "cell_type": "markdown",
      "source": "**Use of drop**",
      "metadata": {}
    },
    {
      "id": "608a00a6-759a-4287-be63-44d171da46c5",
      "cell_type": "code",
      "source": "new_df = df1.dropna()\nnew_df",
      "metadata": {
        "trusted": true
      },
      "outputs": [
        {
          "execution_count": 22,
          "output_type": "execute_result",
          "data": {
            "text/plain": "     Make Colour  Odometer  Doors    Price\n0  Toyota  White  150043.0    4.0   $4,000\n1   Honda    Red   87899.0    4.0   $5,000\n3     BMW  Black   11179.0    5.0  $22,000\n4  Nissan  White  213095.0    4.0   $3,500",
            "text/html": "<div>\n<style scoped>\n    .dataframe tbody tr th:only-of-type {\n        vertical-align: middle;\n    }\n\n    .dataframe tbody tr th {\n        vertical-align: top;\n    }\n\n    .dataframe thead th {\n        text-align: right;\n    }\n</style>\n<table border=\"1\" class=\"dataframe\">\n  <thead>\n    <tr style=\"text-align: right;\">\n      <th></th>\n      <th>Make</th>\n      <th>Colour</th>\n      <th>Odometer</th>\n      <th>Doors</th>\n      <th>Price</th>\n    </tr>\n  </thead>\n  <tbody>\n    <tr>\n      <th>0</th>\n      <td>Toyota</td>\n      <td>White</td>\n      <td>150043.0</td>\n      <td>4.0</td>\n      <td>$4,000</td>\n    </tr>\n    <tr>\n      <th>1</th>\n      <td>Honda</td>\n      <td>Red</td>\n      <td>87899.0</td>\n      <td>4.0</td>\n      <td>$5,000</td>\n    </tr>\n    <tr>\n      <th>3</th>\n      <td>BMW</td>\n      <td>Black</td>\n      <td>11179.0</td>\n      <td>5.0</td>\n      <td>$22,000</td>\n    </tr>\n    <tr>\n      <th>4</th>\n      <td>Nissan</td>\n      <td>White</td>\n      <td>213095.0</td>\n      <td>4.0</td>\n      <td>$3,500</td>\n    </tr>\n  </tbody>\n</table>\n</div>"
          },
          "metadata": {}
        }
      ],
      "execution_count": 22
    },
    {
      "id": "1ea0ded6-e0b9-4ca2-b89a-cac94bbdaf10",
      "cell_type": "code",
      "source": "new_df = df1.replace(['Red','Black'],'Brown')\nnew_df",
      "metadata": {
        "trusted": true
      },
      "outputs": [
        {
          "execution_count": 23,
          "output_type": "execute_result",
          "data": {
            "text/plain": "     Make Colour  Odometer  Doors    Price\n0  Toyota  White  150043.0    4.0   $4,000\n1   Honda  Brown   87899.0    4.0   $5,000\n2  Toyota   Blue       NaN    3.0   $7,000\n3     BMW  Brown   11179.0    5.0  $22,000\n4  Nissan  White  213095.0    4.0   $3,500\n5  Toyota  Green       NaN    4.0   $4,500\n6   Honda    NaN       NaN    4.0   $7,500\n7   Honda   Blue       NaN    4.0      NaN\n8  Toyota  White   60000.0    NaN      NaN\n9     NaN  White   31600.0    4.0   $9,700",
            "text/html": "<div>\n<style scoped>\n    .dataframe tbody tr th:only-of-type {\n        vertical-align: middle;\n    }\n\n    .dataframe tbody tr th {\n        vertical-align: top;\n    }\n\n    .dataframe thead th {\n        text-align: right;\n    }\n</style>\n<table border=\"1\" class=\"dataframe\">\n  <thead>\n    <tr style=\"text-align: right;\">\n      <th></th>\n      <th>Make</th>\n      <th>Colour</th>\n      <th>Odometer</th>\n      <th>Doors</th>\n      <th>Price</th>\n    </tr>\n  </thead>\n  <tbody>\n    <tr>\n      <th>0</th>\n      <td>Toyota</td>\n      <td>White</td>\n      <td>150043.0</td>\n      <td>4.0</td>\n      <td>$4,000</td>\n    </tr>\n    <tr>\n      <th>1</th>\n      <td>Honda</td>\n      <td>Brown</td>\n      <td>87899.0</td>\n      <td>4.0</td>\n      <td>$5,000</td>\n    </tr>\n    <tr>\n      <th>2</th>\n      <td>Toyota</td>\n      <td>Blue</td>\n      <td>NaN</td>\n      <td>3.0</td>\n      <td>$7,000</td>\n    </tr>\n    <tr>\n      <th>3</th>\n      <td>BMW</td>\n      <td>Brown</td>\n      <td>11179.0</td>\n      <td>5.0</td>\n      <td>$22,000</td>\n    </tr>\n    <tr>\n      <th>4</th>\n      <td>Nissan</td>\n      <td>White</td>\n      <td>213095.0</td>\n      <td>4.0</td>\n      <td>$3,500</td>\n    </tr>\n    <tr>\n      <th>5</th>\n      <td>Toyota</td>\n      <td>Green</td>\n      <td>NaN</td>\n      <td>4.0</td>\n      <td>$4,500</td>\n    </tr>\n    <tr>\n      <th>6</th>\n      <td>Honda</td>\n      <td>NaN</td>\n      <td>NaN</td>\n      <td>4.0</td>\n      <td>$7,500</td>\n    </tr>\n    <tr>\n      <th>7</th>\n      <td>Honda</td>\n      <td>Blue</td>\n      <td>NaN</td>\n      <td>4.0</td>\n      <td>NaN</td>\n    </tr>\n    <tr>\n      <th>8</th>\n      <td>Toyota</td>\n      <td>White</td>\n      <td>60000.0</td>\n      <td>NaN</td>\n      <td>NaN</td>\n    </tr>\n    <tr>\n      <th>9</th>\n      <td>NaN</td>\n      <td>White</td>\n      <td>31600.0</td>\n      <td>4.0</td>\n      <td>$9,700</td>\n    </tr>\n  </tbody>\n</table>\n</div>"
          },
          "metadata": {}
        }
      ],
      "execution_count": 23
    },
    {
      "id": "0beaa158-8129-4569-b2e2-815dd189af4a",
      "cell_type": "code",
      "source": "weather_data = {\n    'Day' : ['01/04/2025','02/04/2025','03/04/2025','04/04/2025','05/04/2025'],\n    'Temperature' : ['32 C',33,33,35,'38 F'],\n    'Windspeed' : ['6 mph','7 mph',2,7,4],\n    'Event' : ['Rain','Rain','Sunny','Sunny','Sunny']\n}\ndf = pd.DataFrame(weather_data)\ndf.to_csv('weather_data',index=False)\nprint(\"weather_data.csv has been created successfully!\")",
      "metadata": {
        "trusted": true
      },
      "outputs": [
        {
          "name": "stdout",
          "output_type": "stream",
          "text": "weather_data.csv has been created successfully!\n"
        }
      ],
      "execution_count": 26
    },
    {
      "id": "ee4df83a-062d-4c52-b7d2-c52bc85ed270",
      "cell_type": "code",
      "source": "new_df = df.replace({\n    'Temperature':'[A-Za-z]',\n    'Windspeed':'[A-Za-z]'\n},'',regex=True)\nnew_df",
      "metadata": {
        "trusted": true
      },
      "outputs": [
        {
          "execution_count": 27,
          "output_type": "execute_result",
          "data": {
            "text/plain": "          Day Temperature Windspeed  Event\n0  01/04/2025         32         6    Rain\n1  02/04/2025          33        7    Rain\n2  03/04/2025          33         2  Sunny\n3  04/04/2025          35         7  Sunny\n4  05/04/2025         38          4  Sunny",
            "text/html": "<div>\n<style scoped>\n    .dataframe tbody tr th:only-of-type {\n        vertical-align: middle;\n    }\n\n    .dataframe tbody tr th {\n        vertical-align: top;\n    }\n\n    .dataframe thead th {\n        text-align: right;\n    }\n</style>\n<table border=\"1\" class=\"dataframe\">\n  <thead>\n    <tr style=\"text-align: right;\">\n      <th></th>\n      <th>Day</th>\n      <th>Temperature</th>\n      <th>Windspeed</th>\n      <th>Event</th>\n    </tr>\n  </thead>\n  <tbody>\n    <tr>\n      <th>0</th>\n      <td>01/04/2025</td>\n      <td>32</td>\n      <td>6</td>\n      <td>Rain</td>\n    </tr>\n    <tr>\n      <th>1</th>\n      <td>02/04/2025</td>\n      <td>33</td>\n      <td>7</td>\n      <td>Rain</td>\n    </tr>\n    <tr>\n      <th>2</th>\n      <td>03/04/2025</td>\n      <td>33</td>\n      <td>2</td>\n      <td>Sunny</td>\n    </tr>\n    <tr>\n      <th>3</th>\n      <td>04/04/2025</td>\n      <td>35</td>\n      <td>7</td>\n      <td>Sunny</td>\n    </tr>\n    <tr>\n      <th>4</th>\n      <td>05/04/2025</td>\n      <td>38</td>\n      <td>4</td>\n      <td>Sunny</td>\n    </tr>\n  </tbody>\n</table>\n</div>"
          },
          "metadata": {}
        }
      ],
      "execution_count": 27
    },
    {
      "id": "41074799-7729-4657-a528-45766f728e42",
      "cell_type": "code",
      "source": "df2 = pd.read_csv('weather_by_cities.csv')\ndf2",
      "metadata": {
        "trusted": true
      },
      "outputs": [
        {
          "execution_count": 29,
          "output_type": "execute_result",
          "data": {
            "text/plain": "         day      city  temperature  windspeed   event\n0   1/1/2017  new york           32          6    Rain\n1   1/2/2017  new york           36          7   Sunny\n2   1/3/2017  new york           28         12    Snow\n3   1/4/2017  new york           33          7   Sunny\n4   1/1/2017    mumbai           90          5   Sunny\n5   1/2/2017    mumbai           85         12     Fog\n6   1/3/2017    mumbai           87         15     Fog\n7   1/4/2017    mumbai           92          5    Rain\n8   1/1/2017     paris           45         20   Sunny\n9   1/2/2017     paris           50         13  Cloudy\n10  1/3/2017     paris           54          8  Cloudy\n11  1/4/2017     paris           42         10  Cloudy",
            "text/html": "<div>\n<style scoped>\n    .dataframe tbody tr th:only-of-type {\n        vertical-align: middle;\n    }\n\n    .dataframe tbody tr th {\n        vertical-align: top;\n    }\n\n    .dataframe thead th {\n        text-align: right;\n    }\n</style>\n<table border=\"1\" class=\"dataframe\">\n  <thead>\n    <tr style=\"text-align: right;\">\n      <th></th>\n      <th>day</th>\n      <th>city</th>\n      <th>temperature</th>\n      <th>windspeed</th>\n      <th>event</th>\n    </tr>\n  </thead>\n  <tbody>\n    <tr>\n      <th>0</th>\n      <td>1/1/2017</td>\n      <td>new york</td>\n      <td>32</td>\n      <td>6</td>\n      <td>Rain</td>\n    </tr>\n    <tr>\n      <th>1</th>\n      <td>1/2/2017</td>\n      <td>new york</td>\n      <td>36</td>\n      <td>7</td>\n      <td>Sunny</td>\n    </tr>\n    <tr>\n      <th>2</th>\n      <td>1/3/2017</td>\n      <td>new york</td>\n      <td>28</td>\n      <td>12</td>\n      <td>Snow</td>\n    </tr>\n    <tr>\n      <th>3</th>\n      <td>1/4/2017</td>\n      <td>new york</td>\n      <td>33</td>\n      <td>7</td>\n      <td>Sunny</td>\n    </tr>\n    <tr>\n      <th>4</th>\n      <td>1/1/2017</td>\n      <td>mumbai</td>\n      <td>90</td>\n      <td>5</td>\n      <td>Sunny</td>\n    </tr>\n    <tr>\n      <th>5</th>\n      <td>1/2/2017</td>\n      <td>mumbai</td>\n      <td>85</td>\n      <td>12</td>\n      <td>Fog</td>\n    </tr>\n    <tr>\n      <th>6</th>\n      <td>1/3/2017</td>\n      <td>mumbai</td>\n      <td>87</td>\n      <td>15</td>\n      <td>Fog</td>\n    </tr>\n    <tr>\n      <th>7</th>\n      <td>1/4/2017</td>\n      <td>mumbai</td>\n      <td>92</td>\n      <td>5</td>\n      <td>Rain</td>\n    </tr>\n    <tr>\n      <th>8</th>\n      <td>1/1/2017</td>\n      <td>paris</td>\n      <td>45</td>\n      <td>20</td>\n      <td>Sunny</td>\n    </tr>\n    <tr>\n      <th>9</th>\n      <td>1/2/2017</td>\n      <td>paris</td>\n      <td>50</td>\n      <td>13</td>\n      <td>Cloudy</td>\n    </tr>\n    <tr>\n      <th>10</th>\n      <td>1/3/2017</td>\n      <td>paris</td>\n      <td>54</td>\n      <td>8</td>\n      <td>Cloudy</td>\n    </tr>\n    <tr>\n      <th>11</th>\n      <td>1/4/2017</td>\n      <td>paris</td>\n      <td>42</td>\n      <td>10</td>\n      <td>Cloudy</td>\n    </tr>\n  </tbody>\n</table>\n</div>"
          },
          "metadata": {}
        }
      ],
      "execution_count": 29
    },
    {
      "id": "702d7dad-a617-4c9a-ab77-24d5ae3619a1",
      "cell_type": "markdown",
      "source": "**Use of groupby**",
      "metadata": {}
    },
    {
      "id": "72447700-ad2d-4235-8156-98d73ef46eb7",
      "cell_type": "code",
      "source": "g = df2.groupby('city')\ng",
      "metadata": {
        "trusted": true
      },
      "outputs": [
        {
          "execution_count": 31,
          "output_type": "execute_result",
          "data": {
            "text/plain": "<pandas.core.groupby.generic.DataFrameGroupBy object at 0x6952020>"
          },
          "metadata": {}
        }
      ],
      "execution_count": 31
    },
    {
      "id": "4f704ca6-8644-4b8c-967f-6f1ea3d7ea4e",
      "cell_type": "code",
      "source": "for city,city_df in g:\n    print(city)\n    print(city_df)",
      "metadata": {
        "trusted": true
      },
      "outputs": [
        {
          "name": "stdout",
          "output_type": "stream",
          "text": "mumbai\n        day    city  temperature  windspeed  event\n4  1/1/2017  mumbai           90          5  Sunny\n5  1/2/2017  mumbai           85         12    Fog\n6  1/3/2017  mumbai           87         15    Fog\n7  1/4/2017  mumbai           92          5   Rain\nnew york\n        day      city  temperature  windspeed  event\n0  1/1/2017  new york           32          6   Rain\n1  1/2/2017  new york           36          7  Sunny\n2  1/3/2017  new york           28         12   Snow\n3  1/4/2017  new york           33          7  Sunny\nparis\n         day   city  temperature  windspeed   event\n8   1/1/2017  paris           45         20   Sunny\n9   1/2/2017  paris           50         13  Cloudy\n10  1/3/2017  paris           54          8  Cloudy\n11  1/4/2017  paris           42         10  Cloudy\n"
        }
      ],
      "execution_count": 32
    },
    {
      "id": "eb416f33-5ffc-4dcd-8c07-5eb0540afd50",
      "cell_type": "code",
      "source": "g.get_group('mumbai')",
      "metadata": {
        "trusted": true
      },
      "outputs": [
        {
          "execution_count": 33,
          "output_type": "execute_result",
          "data": {
            "text/plain": "        day    city  temperature  windspeed  event\n4  1/1/2017  mumbai           90          5  Sunny\n5  1/2/2017  mumbai           85         12    Fog\n6  1/3/2017  mumbai           87         15    Fog\n7  1/4/2017  mumbai           92          5   Rain",
            "text/html": "<div>\n<style scoped>\n    .dataframe tbody tr th:only-of-type {\n        vertical-align: middle;\n    }\n\n    .dataframe tbody tr th {\n        vertical-align: top;\n    }\n\n    .dataframe thead th {\n        text-align: right;\n    }\n</style>\n<table border=\"1\" class=\"dataframe\">\n  <thead>\n    <tr style=\"text-align: right;\">\n      <th></th>\n      <th>day</th>\n      <th>city</th>\n      <th>temperature</th>\n      <th>windspeed</th>\n      <th>event</th>\n    </tr>\n  </thead>\n  <tbody>\n    <tr>\n      <th>4</th>\n      <td>1/1/2017</td>\n      <td>mumbai</td>\n      <td>90</td>\n      <td>5</td>\n      <td>Sunny</td>\n    </tr>\n    <tr>\n      <th>5</th>\n      <td>1/2/2017</td>\n      <td>mumbai</td>\n      <td>85</td>\n      <td>12</td>\n      <td>Fog</td>\n    </tr>\n    <tr>\n      <th>6</th>\n      <td>1/3/2017</td>\n      <td>mumbai</td>\n      <td>87</td>\n      <td>15</td>\n      <td>Fog</td>\n    </tr>\n    <tr>\n      <th>7</th>\n      <td>1/4/2017</td>\n      <td>mumbai</td>\n      <td>92</td>\n      <td>5</td>\n      <td>Rain</td>\n    </tr>\n  </tbody>\n</table>\n</div>"
          },
          "metadata": {}
        }
      ],
      "execution_count": 33
    },
    {
      "id": "581b824f-ce88-4219-bc44-766e730ac752",
      "cell_type": "code",
      "source": "g.max()",
      "metadata": {
        "trusted": true
      },
      "outputs": [
        {
          "execution_count": 34,
          "output_type": "execute_result",
          "data": {
            "text/plain": "               day  temperature  windspeed  event\ncity                                             \nmumbai    1/4/2017           92         15  Sunny\nnew york  1/4/2017           36         12  Sunny\nparis     1/4/2017           54         20  Sunny",
            "text/html": "<div>\n<style scoped>\n    .dataframe tbody tr th:only-of-type {\n        vertical-align: middle;\n    }\n\n    .dataframe tbody tr th {\n        vertical-align: top;\n    }\n\n    .dataframe thead th {\n        text-align: right;\n    }\n</style>\n<table border=\"1\" class=\"dataframe\">\n  <thead>\n    <tr style=\"text-align: right;\">\n      <th></th>\n      <th>day</th>\n      <th>temperature</th>\n      <th>windspeed</th>\n      <th>event</th>\n    </tr>\n    <tr>\n      <th>city</th>\n      <th></th>\n      <th></th>\n      <th></th>\n      <th></th>\n    </tr>\n  </thead>\n  <tbody>\n    <tr>\n      <th>mumbai</th>\n      <td>1/4/2017</td>\n      <td>92</td>\n      <td>15</td>\n      <td>Sunny</td>\n    </tr>\n    <tr>\n      <th>new york</th>\n      <td>1/4/2017</td>\n      <td>36</td>\n      <td>12</td>\n      <td>Sunny</td>\n    </tr>\n    <tr>\n      <th>paris</th>\n      <td>1/4/2017</td>\n      <td>54</td>\n      <td>20</td>\n      <td>Sunny</td>\n    </tr>\n  </tbody>\n</table>\n</div>"
          },
          "metadata": {}
        }
      ],
      "execution_count": 34
    },
    {
      "id": "f40557fb-b0fb-464e-a3fa-8d0aec987ee1",
      "cell_type": "code",
      "source": "g.mean(['temperature','windspeed'])",
      "metadata": {
        "trusted": true
      },
      "outputs": [
        {
          "execution_count": 37,
          "output_type": "execute_result",
          "data": {
            "text/plain": "          temperature  windspeed\ncity                            \nmumbai          88.50       9.25\nnew york        32.25       8.00\nparis           47.75      12.75",
            "text/html": "<div>\n<style scoped>\n    .dataframe tbody tr th:only-of-type {\n        vertical-align: middle;\n    }\n\n    .dataframe tbody tr th {\n        vertical-align: top;\n    }\n\n    .dataframe thead th {\n        text-align: right;\n    }\n</style>\n<table border=\"1\" class=\"dataframe\">\n  <thead>\n    <tr style=\"text-align: right;\">\n      <th></th>\n      <th>temperature</th>\n      <th>windspeed</th>\n    </tr>\n    <tr>\n      <th>city</th>\n      <th></th>\n      <th></th>\n    </tr>\n  </thead>\n  <tbody>\n    <tr>\n      <th>mumbai</th>\n      <td>88.50</td>\n      <td>9.25</td>\n    </tr>\n    <tr>\n      <th>new york</th>\n      <td>32.25</td>\n      <td>8.00</td>\n    </tr>\n    <tr>\n      <th>paris</th>\n      <td>47.75</td>\n      <td>12.75</td>\n    </tr>\n  </tbody>\n</table>\n</div>"
          },
          "metadata": {}
        }
      ],
      "execution_count": 37
    },
    {
      "id": "b2e66ad7-b209-4990-8f5a-c0dc60383f35",
      "cell_type": "code",
      "source": "india_weather = pd.DataFrame({\n    \"city\" : [\"mumbai\",\"delhi\",\"banglore\"],\n    \"temperature\" : [32,45,30],\n    \"humidity\": [80,60,78]\n})\nindia_weather",
      "metadata": {
        "trusted": true
      },
      "outputs": [
        {
          "execution_count": 41,
          "output_type": "execute_result",
          "data": {
            "text/plain": "       city  temperature  humidity\n0    mumbai           32        80\n1     delhi           45        60\n2  banglore           30        78",
            "text/html": "<div>\n<style scoped>\n    .dataframe tbody tr th:only-of-type {\n        vertical-align: middle;\n    }\n\n    .dataframe tbody tr th {\n        vertical-align: top;\n    }\n\n    .dataframe thead th {\n        text-align: right;\n    }\n</style>\n<table border=\"1\" class=\"dataframe\">\n  <thead>\n    <tr style=\"text-align: right;\">\n      <th></th>\n      <th>city</th>\n      <th>temperature</th>\n      <th>humidity</th>\n    </tr>\n  </thead>\n  <tbody>\n    <tr>\n      <th>0</th>\n      <td>mumbai</td>\n      <td>32</td>\n      <td>80</td>\n    </tr>\n    <tr>\n      <th>1</th>\n      <td>delhi</td>\n      <td>45</td>\n      <td>60</td>\n    </tr>\n    <tr>\n      <th>2</th>\n      <td>banglore</td>\n      <td>30</td>\n      <td>78</td>\n    </tr>\n  </tbody>\n</table>\n</div>"
          },
          "metadata": {}
        }
      ],
      "execution_count": 41
    },
    {
      "id": "d98469d9-9425-4d00-941d-e530dd24c235",
      "cell_type": "code",
      "source": "usa_weather = pd.DataFrame({\n    \"city\" : [\"new york\",\"chicago\",\"oriando\"],\n    \"temperature\" : [21,14,35],\n    \"humidity\": [68,65,76]\n})\nusa_weather",
      "metadata": {
        "trusted": true
      },
      "outputs": [
        {
          "execution_count": 42,
          "output_type": "execute_result",
          "data": {
            "text/plain": "       city  temperature  humidity\n0  new york           21        68\n1   chicago           14        65\n2   oriando           35        76",
            "text/html": "<div>\n<style scoped>\n    .dataframe tbody tr th:only-of-type {\n        vertical-align: middle;\n    }\n\n    .dataframe tbody tr th {\n        vertical-align: top;\n    }\n\n    .dataframe thead th {\n        text-align: right;\n    }\n</style>\n<table border=\"1\" class=\"dataframe\">\n  <thead>\n    <tr style=\"text-align: right;\">\n      <th></th>\n      <th>city</th>\n      <th>temperature</th>\n      <th>humidity</th>\n    </tr>\n  </thead>\n  <tbody>\n    <tr>\n      <th>0</th>\n      <td>new york</td>\n      <td>21</td>\n      <td>68</td>\n    </tr>\n    <tr>\n      <th>1</th>\n      <td>chicago</td>\n      <td>14</td>\n      <td>65</td>\n    </tr>\n    <tr>\n      <th>2</th>\n      <td>oriando</td>\n      <td>35</td>\n      <td>76</td>\n    </tr>\n  </tbody>\n</table>\n</div>"
          },
          "metadata": {}
        }
      ],
      "execution_count": 42
    },
    {
      "id": "af98351a-b800-4ea9-8488-0b0d2206a677",
      "cell_type": "code",
      "source": "df = pd.concat([india_weather,usa_weather], keys=[\"india\",\"usa\"])\ndf",
      "metadata": {
        "trusted": true
      },
      "outputs": [
        {
          "execution_count": 45,
          "output_type": "execute_result",
          "data": {
            "text/plain": "             city  temperature  humidity\nindia 0    mumbai           32        80\n      1     delhi           45        60\n      2  banglore           30        78\nusa   0  new york           21        68\n      1   chicago           14        65\n      2   oriando           35        76",
            "text/html": "<div>\n<style scoped>\n    .dataframe tbody tr th:only-of-type {\n        vertical-align: middle;\n    }\n\n    .dataframe tbody tr th {\n        vertical-align: top;\n    }\n\n    .dataframe thead th {\n        text-align: right;\n    }\n</style>\n<table border=\"1\" class=\"dataframe\">\n  <thead>\n    <tr style=\"text-align: right;\">\n      <th></th>\n      <th></th>\n      <th>city</th>\n      <th>temperature</th>\n      <th>humidity</th>\n    </tr>\n  </thead>\n  <tbody>\n    <tr>\n      <th rowspan=\"3\" valign=\"top\">india</th>\n      <th>0</th>\n      <td>mumbai</td>\n      <td>32</td>\n      <td>80</td>\n    </tr>\n    <tr>\n      <th>1</th>\n      <td>delhi</td>\n      <td>45</td>\n      <td>60</td>\n    </tr>\n    <tr>\n      <th>2</th>\n      <td>banglore</td>\n      <td>30</td>\n      <td>78</td>\n    </tr>\n    <tr>\n      <th rowspan=\"3\" valign=\"top\">usa</th>\n      <th>0</th>\n      <td>new york</td>\n      <td>21</td>\n      <td>68</td>\n    </tr>\n    <tr>\n      <th>1</th>\n      <td>chicago</td>\n      <td>14</td>\n      <td>65</td>\n    </tr>\n    <tr>\n      <th>2</th>\n      <td>oriando</td>\n      <td>35</td>\n      <td>76</td>\n    </tr>\n  </tbody>\n</table>\n</div>"
          },
          "metadata": {}
        }
      ],
      "execution_count": 45
    },
    {
      "id": "ab2a416b-de51-4061-94ad-5f96724d7665",
      "cell_type": "code",
      "source": "df.loc['india']",
      "metadata": {
        "trusted": true
      },
      "outputs": [
        {
          "execution_count": 46,
          "output_type": "execute_result",
          "data": {
            "text/plain": "       city  temperature  humidity\n0    mumbai           32        80\n1     delhi           45        60\n2  banglore           30        78",
            "text/html": "<div>\n<style scoped>\n    .dataframe tbody tr th:only-of-type {\n        vertical-align: middle;\n    }\n\n    .dataframe tbody tr th {\n        vertical-align: top;\n    }\n\n    .dataframe thead th {\n        text-align: right;\n    }\n</style>\n<table border=\"1\" class=\"dataframe\">\n  <thead>\n    <tr style=\"text-align: right;\">\n      <th></th>\n      <th>city</th>\n      <th>temperature</th>\n      <th>humidity</th>\n    </tr>\n  </thead>\n  <tbody>\n    <tr>\n      <th>0</th>\n      <td>mumbai</td>\n      <td>32</td>\n      <td>80</td>\n    </tr>\n    <tr>\n      <th>1</th>\n      <td>delhi</td>\n      <td>45</td>\n      <td>60</td>\n    </tr>\n    <tr>\n      <th>2</th>\n      <td>banglore</td>\n      <td>30</td>\n      <td>78</td>\n    </tr>\n  </tbody>\n</table>\n</div>"
          },
          "metadata": {}
        }
      ],
      "execution_count": 46
    },
    {
      "id": "e616d9b5-66b5-47b6-891a-342a0a71c33f",
      "cell_type": "code",
      "source": "india_temp = pd.DataFrame({\n    \"city\" : [\"mumbai\",\"delhi\",\"banglore\",\"chennai\"],\n    \"temperature\" : [32,45,30,28],\n})\nindia_windspeed = pd.DataFrame({\n    \"city\" : [\"mumbai\",\"delhi\",\"banglore\"],\n    \"windspeed\":[7,12,9]\n})\ndf = pd.concat([india_temp,india_windspeed],axis=1)\ndf",
      "metadata": {
        "trusted": true
      },
      "outputs": [
        {
          "execution_count": 56,
          "output_type": "execute_result",
          "data": {
            "text/plain": "       city  temperature      city  windspeed\n0    mumbai           32    mumbai        7.0\n1     delhi           45     delhi       12.0\n2  banglore           30  banglore        9.0\n3   chennai           28       NaN        NaN",
            "text/html": "<div>\n<style scoped>\n    .dataframe tbody tr th:only-of-type {\n        vertical-align: middle;\n    }\n\n    .dataframe tbody tr th {\n        vertical-align: top;\n    }\n\n    .dataframe thead th {\n        text-align: right;\n    }\n</style>\n<table border=\"1\" class=\"dataframe\">\n  <thead>\n    <tr style=\"text-align: right;\">\n      <th></th>\n      <th>city</th>\n      <th>temperature</th>\n      <th>city</th>\n      <th>windspeed</th>\n    </tr>\n  </thead>\n  <tbody>\n    <tr>\n      <th>0</th>\n      <td>mumbai</td>\n      <td>32</td>\n      <td>mumbai</td>\n      <td>7.0</td>\n    </tr>\n    <tr>\n      <th>1</th>\n      <td>delhi</td>\n      <td>45</td>\n      <td>delhi</td>\n      <td>12.0</td>\n    </tr>\n    <tr>\n      <th>2</th>\n      <td>banglore</td>\n      <td>30</td>\n      <td>banglore</td>\n      <td>9.0</td>\n    </tr>\n    <tr>\n      <th>3</th>\n      <td>chennai</td>\n      <td>28</td>\n      <td>NaN</td>\n      <td>NaN</td>\n    </tr>\n  </tbody>\n</table>\n</div>"
          },
          "metadata": {}
        }
      ],
      "execution_count": 56
    },
    {
      "id": "eff2df17-95aa-4d54-b4c6-a8b9797f8dda",
      "cell_type": "code",
      "source": "df = pd.merge(india_temp,india_windspeed,on=\"city\")\ndf",
      "metadata": {
        "trusted": true
      },
      "outputs": [
        {
          "execution_count": 57,
          "output_type": "execute_result",
          "data": {
            "text/plain": "       city  temperature  windspeed\n0    mumbai           32          7\n1     delhi           45         12\n2  banglore           30          9",
            "text/html": "<div>\n<style scoped>\n    .dataframe tbody tr th:only-of-type {\n        vertical-align: middle;\n    }\n\n    .dataframe tbody tr th {\n        vertical-align: top;\n    }\n\n    .dataframe thead th {\n        text-align: right;\n    }\n</style>\n<table border=\"1\" class=\"dataframe\">\n  <thead>\n    <tr style=\"text-align: right;\">\n      <th></th>\n      <th>city</th>\n      <th>temperature</th>\n      <th>windspeed</th>\n    </tr>\n  </thead>\n  <tbody>\n    <tr>\n      <th>0</th>\n      <td>mumbai</td>\n      <td>32</td>\n      <td>7</td>\n    </tr>\n    <tr>\n      <th>1</th>\n      <td>delhi</td>\n      <td>45</td>\n      <td>12</td>\n    </tr>\n    <tr>\n      <th>2</th>\n      <td>banglore</td>\n      <td>30</td>\n      <td>9</td>\n    </tr>\n  </tbody>\n</table>\n</div>"
          },
          "metadata": {}
        }
      ],
      "execution_count": 57
    },
    {
      "id": "362bf0d3-d425-4746-8a03-86ed0260706a",
      "cell_type": "code",
      "source": "df = pd.merge(india_temp,india_windspeed,on=\"city\",how=\"outer\",indicator=True)\ndf",
      "metadata": {
        "trusted": true
      },
      "outputs": [
        {
          "execution_count": 58,
          "output_type": "execute_result",
          "data": {
            "text/plain": "       city  temperature  windspeed     _merge\n0  banglore           30        9.0       both\n1   chennai           28        NaN  left_only\n2     delhi           45       12.0       both\n3    mumbai           32        7.0       both",
            "text/html": "<div>\n<style scoped>\n    .dataframe tbody tr th:only-of-type {\n        vertical-align: middle;\n    }\n\n    .dataframe tbody tr th {\n        vertical-align: top;\n    }\n\n    .dataframe thead th {\n        text-align: right;\n    }\n</style>\n<table border=\"1\" class=\"dataframe\">\n  <thead>\n    <tr style=\"text-align: right;\">\n      <th></th>\n      <th>city</th>\n      <th>temperature</th>\n      <th>windspeed</th>\n      <th>_merge</th>\n    </tr>\n  </thead>\n  <tbody>\n    <tr>\n      <th>0</th>\n      <td>banglore</td>\n      <td>30</td>\n      <td>9.0</td>\n      <td>both</td>\n    </tr>\n    <tr>\n      <th>1</th>\n      <td>chennai</td>\n      <td>28</td>\n      <td>NaN</td>\n      <td>left_only</td>\n    </tr>\n    <tr>\n      <th>2</th>\n      <td>delhi</td>\n      <td>45</td>\n      <td>12.0</td>\n      <td>both</td>\n    </tr>\n    <tr>\n      <th>3</th>\n      <td>mumbai</td>\n      <td>32</td>\n      <td>7.0</td>\n      <td>both</td>\n    </tr>\n  </tbody>\n</table>\n</div>"
          },
          "metadata": {}
        }
      ],
      "execution_count": 58
    },
    {
      "id": "8368f1ab-f55c-4940-bf08-405d31402b5f",
      "cell_type": "code",
      "source": "df = pd.DataFrame({'marks': [40, 75, 90, 55]})\n\ndf['grade'] = df['marks'].map(lambda x: 'Pass' if x >= 50 else 'Fail')\nprint(df)",
      "metadata": {
        "trusted": true
      },
      "outputs": [
        {
          "name": "stdout",
          "output_type": "stream",
          "text": "   marks grade\n0     40  Fail\n1     75  Pass\n2     90  Pass\n3     55  Pass\n"
        }
      ],
      "execution_count": 59
    },
    {
      "id": "49dd0b5c-537f-4d3d-926a-27e1772f6e75",
      "cell_type": "code",
      "source": "df['bonus_marks'] = df['marks'].apply(lambda x: x * 1.10 if x >=90 else x)\nprint(df)",
      "metadata": {
        "trusted": true
      },
      "outputs": [
        {
          "name": "stdout",
          "output_type": "stream",
          "text": "   marks grade  bonus_marks\n0     40  Fail         40.0\n1     75  Pass         75.0\n2     90  Pass         99.0\n3     55  Pass         55.0\n"
        }
      ],
      "execution_count": 65
    },
    {
      "id": "f8e21432-49f3-46d3-b37d-1d3fe7758f96",
      "cell_type": "code",
      "source": "",
      "metadata": {
        "trusted": true
      },
      "outputs": [],
      "execution_count": null
    }
  ]
}