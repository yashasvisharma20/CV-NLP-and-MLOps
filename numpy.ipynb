{
  "metadata": {
    "kernelspec": {
      "name": "python",
      "display_name": "Python (Pyodide)",
      "language": "python"
    },
    "language_info": {
      "codemirror_mode": {
        "name": "python",
        "version": 3
      },
      "file_extension": ".py",
      "mimetype": "text/x-python",
      "name": "python",
      "nbconvert_exporter": "python",
      "pygments_lexer": "ipython3",
      "version": "3.8"
    }
  },
  "nbformat_minor": 5,
  "nbformat": 4,
  "cells": [
    {
      "id": "ae8f0451-ebbc-41bc-b61c-9c2b9ce2cae8",
      "cell_type": "code",
      "source": "import numpy as np",
      "metadata": {
        "trusted": true
      },
      "outputs": [],
      "execution_count": 1
    },
    {
      "id": "8b1a2b56-6f43-4dbc-a863-4430360e4c02",
      "cell_type": "code",
      "source": "arr_1d = np.array([1,2,3,4,5])\nprint(\"1D array: \",arr_1d)\n\narr_2d = np.array([[1,2,3],[4,5,6]])\nprint(\"2D array: \",arr_2d)",
      "metadata": {
        "trusted": true
      },
      "outputs": [
        {
          "name": "stdout",
          "output_type": "stream",
          "text": "1D array:  [1 2 3 4 5]\n2D array:  [[1 2 3]\n [4 5 6]]\n"
        }
      ],
      "execution_count": 2
    },
    {
      "id": "7c4a329c-f13e-4af0-b1e4-5efb167de338",
      "cell_type": "markdown",
      "source": "**List VS Numpy Array**",
      "metadata": {}
    },
    {
      "id": "42f0e79d-bbfb-4526-bc66-5d320ea771bd",
      "cell_type": "code",
      "source": "py_list = [1,2,3]\nprint(\"Python List Multiplication\",py_list * 2)\n\nnp_array = np.array([2,6,7]) # Element wise multiplication\nprint(\"Array Multiplication\",np_array * 2)\n",
      "metadata": {
        "trusted": true
      },
      "outputs": [
        {
          "name": "stdout",
          "output_type": "stream",
          "text": "Python List Multiplication [1, 2, 3, 1, 2, 3]\nArray Multiplication [ 4 12 14]\n"
        }
      ],
      "execution_count": 3
    },
    {
      "id": "1de397ec-10b2-4857-8b7c-aafa0ccce83d",
      "cell_type": "code",
      "source": "import time\nstart = time.time()\npy_list = [i*2 for i in range(1000000)]\nprint(\"\\n List operation time: \",time.time() - start)\n\nstart = time.time()\nnp_array = np.arange(1000000) * 2\nprint(\"\\n Numpy operation time: \",time.time() - start)\n",
      "metadata": {
        "trusted": true
      },
      "outputs": [
        {
          "name": "stdout",
          "output_type": "stream",
          "text": "\n List operation time:  0.4310002326965332\n\n Numpy operation time:  0.015000104904174805\n"
        }
      ],
      "execution_count": 4
    },
    {
      "id": "a10e605c-39a2-4eba-a0ac-663653a7a163",
      "cell_type": "markdown",
      "source": "**Creating array from scratch**",
      "metadata": {}
    },
    {
      "id": "ef9bed8c-9203-4966-a3f3-6c7c7cb19f0f",
      "cell_type": "code",
      "source": "zeros = np.zeros((3,4))\nprint(\"Zero array: \\n\", zeros)\n\nones = np.ones((2,5))\nprint(\"Zero array: \\n\", ones)\n\nfull = np.full((2,2),7)\nprint(\"full array: \\n\", full)\n\nrandom = np.random.random((4,6))\nprint(\"Random array: \\n\", random)\n\nsequence = np.arange(0,10,2)\nprint(\"Sequence array: \\n\", sequence)",
      "metadata": {
        "trusted": true
      },
      "outputs": [
        {
          "name": "stdout",
          "output_type": "stream",
          "text": "Zero array: \n [[0. 0. 0. 0.]\n [0. 0. 0. 0.]\n [0. 0. 0. 0.]]\nZero array: \n [[1. 1. 1. 1. 1.]\n [1. 1. 1. 1. 1.]]\nfull array: \n [[7 7]\n [7 7]]\nRandom array: \n [[0.1336992  0.35087631 0.25363185 0.3320301  0.10281957 0.05069293]\n [0.1516868  0.98161508 0.98118491 0.12910575 0.7426577  0.16568569]\n [0.88497152 0.68771764 0.85039405 0.17605515 0.41418182 0.87985833]\n [0.0024783  0.37559749 0.9593705  0.54954391 0.12685036 0.68887883]]\nSequence array: \n [0 2 4 6 8]\n"
        }
      ],
      "execution_count": 5
    },
    {
      "id": "fc963e45-2fcc-4ee3-b96f-1e0a8f80e559",
      "cell_type": "markdown",
      "source": "**Vector, Matrix and  Tensor**",
      "metadata": {}
    },
    {
      "id": "5b35e08d-d23b-4de9-b39a-140d8de7d640",
      "cell_type": "code",
      "source": "vector = np.array([1,2,4])\nprint(\"Vector: \",vector)\n\nmatrix = np.array([[1,4,5,6],\n                  [3,5,7,8]])\nprint(\"Matrix: \",matrix)\n\ntensor = np.array([[[1,2],[3,4]],\n                  [[5,6],[7,9]]])\nprint(\"Tensor: \",tensor)",
      "metadata": {
        "trusted": true
      },
      "outputs": [
        {
          "name": "stdout",
          "output_type": "stream",
          "text": "Vector:  [1 2 4]\nMatrix:  [[1 4 5 6]\n [3 5 7 8]]\nTensor:  [[[1 2]\n  [3 4]]\n\n [[5 6]\n  [7 9]]]\n"
        }
      ],
      "execution_count": 6
    },
    {
      "id": "0a9d6ed5-8fe0-456a-b2c3-bd7a9f269603",
      "cell_type": "markdown",
      "source": "**Array Properties**\n",
      "metadata": {}
    },
    {
      "id": "66c53985-027e-419d-85be-9b5c34955cc3",
      "cell_type": "code",
      "source": "arr = np.array([[1,2,3],\n                [5,7,8]])\nprint(\"Shape: \",arr.shape)\nprint(\"Dimension: \",arr.ndim)\nprint(\"Size: \",arr.size)\nprint(\"DType: \",arr.dtype)",
      "metadata": {
        "trusted": true
      },
      "outputs": [
        {
          "name": "stdout",
          "output_type": "stream",
          "text": "Shape:  (2, 3)\nDimension:  2\nSize:  6\nDType:  int32\n"
        }
      ],
      "execution_count": 7
    },
    {
      "id": "ead69cd5-ba60-40d8-83d8-c228205fb87b",
      "cell_type": "code",
      "source": "arr = np.arange(12)\nprint(\"Original array: \",arr)\n\nreshaped = arr.reshape((3,4))\nprint(\"Reshaped array: \",reshaped)\n\nflattened = reshaped.flatten()\nprint(\"Flattened array: \",flattened)\n\n# ravel (returns view, instead of copy)\nraveled = reshaped.ravel()\nprint(\"Raveled array: \",raveled)\n\n# Transpose\ntranspose = reshaped.T\nprint(\"Transpose array: \",transpose)",
      "metadata": {
        "trusted": true
      },
      "outputs": [
        {
          "name": "stdout",
          "output_type": "stream",
          "text": "Original array:  [ 0  1  2  3  4  5  6  7  8  9 10 11]\nReshaped array:  [[ 0  1  2  3]\n [ 4  5  6  7]\n [ 8  9 10 11]]\nFlattened array:  [ 0  1  2  3  4  5  6  7  8  9 10 11]\nRaveled array:  [ 0  1  2  3  4  5  6  7  8  9 10 11]\nTranspose array:  [[ 0  4  8]\n [ 1  5  9]\n [ 2  6 10]\n [ 3  7 11]]\n"
        }
      ],
      "execution_count": 8
    },
    {
      "id": "6f1c104b-9d72-4fd3-9ae0-409b6865375f",
      "cell_type": "markdown",
      "source": "**Indexing & Slicing**",
      "metadata": {}
    },
    {
      "id": "0a2b8b0f-a1da-4379-a712-9960270ec728",
      "cell_type": "code",
      "source": "arr = np.arange(1,11)\nprint(\"Basic Slicing\",arr[2:7])\nprint(\"With Step\",arr[1:8:2])\nprint(\"Negative indexing\",arr[-3])",
      "metadata": {
        "trusted": true
      },
      "outputs": [
        {
          "name": "stdout",
          "output_type": "stream",
          "text": "Basic Slicing [3 4 5 6 7]\nWith Step [2 4 6 8]\nNegative indexing 8\n"
        }
      ],
      "execution_count": 9
    },
    {
      "id": "20b80b1a-cc93-4958-882c-2c937de7b609",
      "cell_type": "code",
      "source": "arr_2d = np.array([[1,5,2],\n                   [5,8,6],\n                   [9,7,4]])\nprint(\"Specific element\", arr_2d[1,2])\nprint(\"Entire row: \",arr_2d[1])\nprint(\"Entire col: \",arr_2d[:,2])",
      "metadata": {
        "trusted": true
      },
      "outputs": [
        {
          "name": "stdout",
          "output_type": "stream",
          "text": "Specific element 6\nEntire row:  [5 8 6]\nEntire col:  [2 6 4]\n"
        }
      ],
      "execution_count": 10
    },
    {
      "id": "bc8957f7-c58f-497e-be9d-1d11566d3e0b",
      "cell_type": "markdown",
      "source": "**Sorting**",
      "metadata": {}
    },
    {
      "id": "afc85904-a4e1-46b8-b752-04f8c78cd00a",
      "cell_type": "code",
      "source": "unsorted = np.array([3,1,4,1,4,6,7,3,2,4])\nprint(\"Sorted Array\", np.sort(unsorted))\n\narr_2d_unsorted = np.array([[3,1],[1,2],[2,3]])\nprint(\"Sorted by col\",np.sort(arr_2d_unsorted,axis=0))",
      "metadata": {
        "trusted": true
      },
      "outputs": [],
      "execution_count": null
    },
    {
      "id": "707cc004-a7fd-4b51-bc74-6a3bf0ad84e7",
      "cell_type": "code",
      "source": "numbers = np.arange(1,11)\neven_number = numbers[numbers % 2 == 0]\nprint(even_number)",
      "metadata": {
        "trusted": true
      },
      "outputs": [
        {
          "name": "stdout",
          "output_type": "stream",
          "text": "[ 2  4  6  8 10]\n"
        }
      ],
      "execution_count": 12
    },
    {
      "id": "9202f035-dd60-4f08-af6e-fceafcc4faca",
      "cell_type": "markdown",
      "source": "**Filtering**",
      "metadata": {}
    },
    {
      "id": "0eb466ab-59ec-4fe1-a56a-77df6d8167de",
      "cell_type": "code",
      "source": "mask = numbers > 5\nprint(\"Numbers greater than 5\", numbers[mask])",
      "metadata": {
        "trusted": true
      },
      "outputs": [
        {
          "name": "stdout",
          "output_type": "stream",
          "text": "Numbers greater than 5 [ 6  7  8  9 10]\n"
        }
      ],
      "execution_count": 13
    },
    {
      "id": "be2ac546-dcc2-4714-8907-9b40e25c5246",
      "cell_type": "markdown",
      "source": "**Use of where**",
      "metadata": {}
    },
    {
      "id": "1ef19bc3-a194-4290-a5d4-b142ea30ab24",
      "cell_type": "code",
      "source": "indices = [0,2,4]\nprint(numbers[indices])\n\nwhere_result = np.where(numbers > 5)\nprint(where_result)\nprint(\"NP where\", numbers[where_result])",
      "metadata": {
        "trusted": true
      },
      "outputs": [
        {
          "name": "stdout",
          "output_type": "stream",
          "text": "[1 3 5]\n(array([5, 6, 7, 8, 9]),)\nNP where [ 6  7  8  9 10]\n"
        }
      ],
      "execution_count": 14
    },
    {
      "id": "ede9f6f8-c35f-44b3-9b9a-2086e09f5637",
      "cell_type": "markdown",
      "source": "**Conditional array V/S Where**",
      "metadata": {}
    },
    {
      "id": "64d92eea-e36a-4808-8b9d-8631cc8700c3",
      "cell_type": "code",
      "source": "condition_array = np.where(numbers > 5,\"true\",\"false\")\nprint(condition_array)",
      "metadata": {
        "trusted": true
      },
      "outputs": [
        {
          "name": "stdout",
          "output_type": "stream",
          "text": "['false' 'false' 'false' 'false' 'false' 'true' 'true' 'true' 'true'\n 'true']\n"
        }
      ],
      "execution_count": 15
    },
    {
      "id": "b2435d60-729d-45e2-8f9a-ebe2199ad5dc",
      "cell_type": "code",
      "source": "arr1 = np.array([1,2,3])\narr2 = np.array([3,4,5])\n\ncombined = np.concatenate((arr1,arr2))\nprint(combined)",
      "metadata": {
        "trusted": true
      },
      "outputs": [
        {
          "name": "stdout",
          "output_type": "stream",
          "text": "[1 2 3 3 4 5]\n"
        }
      ],
      "execution_count": 16
    },
    {
      "id": "58f62b51-8d71-453d-8f35-2e7fe163b21a",
      "cell_type": "markdown",
      "source": "**Compatibility**",
      "metadata": {}
    },
    {
      "id": "a5dc880f-19b2-4dc1-81b8-14212f03ce27",
      "cell_type": "code",
      "source": "a = np.array([1,2,3])\nb = np.array([4,5,6,9])\nc = np.array([7,8,1])\nprint(\"Compatibitlity shapes\" , b.shape == c.shape)",
      "metadata": {
        "trusted": true
      },
      "outputs": [
        {
          "name": "stdout",
          "output_type": "stream",
          "text": "Compatibitlity shapes False\n"
        }
      ],
      "execution_count": 17
    },
    {
      "id": "4fe538af-361c-498b-991f-7351bf2a7b6d",
      "cell_type": "markdown",
      "source": "**Insertion**",
      "metadata": {}
    },
    {
      "id": "1963892f-a27c-472c-b84f-dee638696489",
      "cell_type": "code",
      "source": "original = np.array([[1,2],[3,5]])\nnew_row = np.array([11,6])\n\nwith_new_row = np.vstack((original,new_row))\nprint(with_new_row)\n\nnew_col = np.array([[13],[15]])\nwith_new_col = np.hstack((original,new_col))\nprint(with_new_col)",
      "metadata": {
        "trusted": true
      },
      "outputs": [
        {
          "name": "stdout",
          "output_type": "stream",
          "text": "[[ 1  2]\n [ 3  5]\n [11  6]]\n[[ 1  2 13]\n [ 3  5 15]]\n"
        }
      ],
      "execution_count": 18
    },
    {
      "id": "9573c680-09a5-47c7-97af-f00449b50dc0",
      "cell_type": "code",
      "source": "arr = np.array([1,2,3,4,5])\ndeleted = np.delete(arr,2)\nprint(\"Array after deletion\",deleted)",
      "metadata": {
        "trusted": true
      },
      "outputs": [
        {
          "name": "stdout",
          "output_type": "stream",
          "text": "Array after deletion [1 2 4 5]\n"
        }
      ],
      "execution_count": 54
    },
    {
      "id": "e4362147-16ab-4e82-9cc3-ad82476dd9e6",
      "cell_type": "code",
      "source": "import matplotlib.pyplot as plt",
      "metadata": {
        "trusted": true
      },
      "outputs": [
        {
          "name": "stderr",
          "output_type": "stream",
          "text": "Matplotlib is building the font cache; this may take a moment.\n"
        }
      ],
      "execution_count": 19
    },
    {
      "id": "048433e6-c2bb-4554-baca-a537a52cf725",
      "cell_type": "code",
      "source": "# Data structure: [restaurant_id, 2021, 2022, 2023, 2024]\nsales_data = np.array([\n    [1, 150000, 180000, 220000, 250000],\n    [2, 120000, 140000, 160000, 190000],\n    [3, 200000, 230000, 260000, 300000],\n    [4, 180000, 210000, 240000, 270000],\n    [5, 160000, 185000, 205000, 230000]\n])",
      "metadata": {
        "trusted": true
      },
      "outputs": [],
      "execution_count": 20
    },
    {
      "id": "ddcf0711-aa67-4979-b49b-c44baa206035",
      "cell_type": "code",
      "source": "print(\"Sales data shape\",sales_data.shape)\nprint(\"Top 3 restaurant:\\n\",sales_data[:3])",
      "metadata": {
        "trusted": true
      },
      "outputs": [
        {
          "name": "stdout",
          "output_type": "stream",
          "text": "Sales data shape (5, 5)\nTop 3 restaurant:\n [[     1 150000 180000 220000 250000]\n [     2 120000 140000 160000 190000]\n [     3 200000 230000 260000 300000]]\n"
        }
      ],
      "execution_count": 21
    },
    {
      "id": "81d8fd42-80d9-4104-b639-0c47c08dfab7",
      "cell_type": "code",
      "source": "total_sales = sales_data[: ,1: ]\nprint(total_sales)\n",
      "metadata": {
        "trusted": true
      },
      "outputs": [
        {
          "name": "stdout",
          "output_type": "stream",
          "text": "[[150000 180000 220000 250000]\n [120000 140000 160000 190000]\n [200000 230000 260000 300000]\n [180000 210000 240000 270000]\n [160000 185000 205000 230000]]\n"
        }
      ],
      "execution_count": 22
    },
    {
      "id": "01898ac7-cfc2-4ade-9085-ed3bc6e4b68f",
      "cell_type": "code",
      "source": "# total sales per year\nprint(\"Total Sales: \",np.sum(total_sales, axis=0))\n\n# Minimum sales per restaurant\nmin_sales = np.min(total_sales,axis=1)\nprint(\"Minimum Sales: \",min_sales)\n\n# Maximum sales per year\nmax_sales = np.max(total_sales,axis=0)\nprint(\"Maximum Sales: \",max_sales)",
      "metadata": {
        "trusted": true
      },
      "outputs": [
        {
          "name": "stdout",
          "output_type": "stream",
          "text": "Total Sales:  [ 810000  945000 1085000 1240000]\nMinimum Sales:  [150000 120000 200000 180000 160000]\nMaximum Sales:  [200000 230000 260000 300000]\n"
        }
      ],
      "execution_count": 23
    },
    {
      "id": "95361d0b-ac8c-41f5-9d05-4ff212daa0aa",
      "cell_type": "code",
      "source": "# Average sales per restaurant\navg_sales = np.mean(total_sales, axis=1)\nprint(\"Avg sales: \",avg_sales)",
      "metadata": {
        "trusted": true
      },
      "outputs": [
        {
          "name": "stdout",
          "output_type": "stream",
          "text": "Avg sales:  [200000. 152500. 247500. 225000. 195000.]\n"
        }
      ],
      "execution_count": 24
    },
    {
      "id": "285c545d-5229-47ef-8812-ec3ea974381e",
      "cell_type": "code",
      "source": "cumulative_sales = np.cumsum(total_sales,axis=1)\nprint(\"Cumulative Sales\",cumulative_sales)\n\nplt.figure(figsize=(10,6))\nplt.plot(np.mean(cumulative_sales,axis=0))\nplt.xlabel(\"Years\")\nplt.ylabel(\"Sales\")\nplt.show()",
      "metadata": {
        "trusted": true
      },
      "outputs": [
        {
          "name": "stdout",
          "output_type": "stream",
          "text": "Cumulative Sales [[150000 330000 550000 800000]\n [120000 260000 420000 610000]\n [200000 430000 690000 990000]\n [180000 390000 630000 900000]\n [160000 345000 550000 780000]]\n"
        },
        {
          "output_type": "display_data",
          "data": {
            "text/plain": "<Figure size 1000x600 with 1 Axes>",
            "image/png": "[encoded data removed]"
          },
          "metadata": {}
        }
      ],
      "execution_count": 25
    },
    {
      "id": "d1ebf331-71b4-4c8c-b93d-388ab90b4e21",
      "cell_type": "markdown",
      "source": "**Vector Operation**",
      "metadata": {}
    },
    {
      "id": "ebbed37d-ad44-4c4d-8951-7b30e3599975",
      "cell_type": "code",
      "source": "vector1 = np.array([1,2,3,4,5])\nvector2 = np.array([6,7,8,9,10])\n\nprint(\"Vector addition: \",vector1 + vector2)\nprint(\"Vector multiplication: \", vector1 * vector2)\nprint(\"Dot product:\",np.dot(vector1,vector2))",
      "metadata": {
        "trusted": true
      },
      "outputs": [
        {
          "name": "stdout",
          "output_type": "stream",
          "text": "Vector addition:  [ 7  9 11 13 15]\nVector multiplication:  [ 6 14 24 36 50]\nDot product: 130\n"
        }
      ],
      "execution_count": 26
    },
    {
      "id": "1ee4ed64-9ee4-4db7-84b4-1491b2421cdd",
      "cell_type": "code",
      "source": "angle = np.arccos(np.dot(vector1,vector2)/ (np.linalg.norm(vector1)*np.linalg.norm(vector2)))\nprint(angle)\n",
      "metadata": {
        "trusted": true
      },
      "outputs": [
        {
          "name": "stdout",
          "output_type": "stream",
          "text": "0.26554161733900966\n"
        }
      ],
      "execution_count": 27
    },
    {
      "id": "a9b53aec-28b3-426e-b273-c93fed727b69",
      "cell_type": "code",
      "source": "restaurant_types = np.array(['biryani','chinese','pizza','burger','cafe'])\nvectorized_upper = np.vectorize(str.upper)\nprint(\"Vectorized Upper\", vectorized_upper(restaurant_types))",
      "metadata": {
        "trusted": true
      },
      "outputs": [
        {
          "name": "stdout",
          "output_type": "stream",
          "text": "Vectorized Upper ['BIRYANI' 'CHINESE' 'PIZZA' 'BURGER' 'CAFE']\n"
        }
      ],
      "execution_count": 28
    },
    {
      "id": "98492fd0-46ab-49f0-aa9b-4dae52640381",
      "cell_type": "code",
      "source": "monthly_sales = total_sales/12\nprint(monthly_sales)",
      "metadata": {
        "trusted": true
      },
      "outputs": [
        {
          "name": "stdout",
          "output_type": "stream",
          "text": "[[12500.         15000.         18333.33333333 20833.33333333]\n [10000.         11666.66666667 13333.33333333 15833.33333333]\n [16666.66666667 19166.66666667 21666.66666667 25000.        ]\n [15000.         17500.         20000.         22500.        ]\n [13333.33333333 15416.66666667 17083.33333333 19166.66666667]]\n"
        }
      ],
      "execution_count": 29
    },
    {
      "id": "2a9920d5-7751-4329-80f1-e5c00bd79e24",
      "cell_type": "code",
      "source": "array1 = np.array([1,2,3,4,5])\narray2 = np.random.rand(3,3)\narray3 = np.zeros((4,4))",
      "metadata": {
        "trusted": true
      },
      "outputs": [],
      "execution_count": 30
    },
    {
      "id": "a11696f8-8249-4d31-9a64-6e094edfa817",
      "cell_type": "code",
      "source": "np.save('array1.npy',array1)\nnp.save('array2.npy',array2)\nnp.save('array3.npy',array3)",
      "metadata": {
        "trusted": true
      },
      "outputs": [],
      "execution_count": 31
    },
    {
      "id": "825193df-0afa-4a82-8c5f-5c0f47c2e24f",
      "cell_type": "code",
      "source": "loaded_array2 = np.load('array2.npy')\nprint(loaded_array2)",
      "metadata": {
        "trusted": true
      },
      "outputs": [
        {
          "name": "stdout",
          "output_type": "stream",
          "text": "[[0.9538496  0.5571218  0.46919285]\n [0.93718714 0.12892357 0.43333267]\n [0.03990283 0.26179112 0.27318081]]\n"
        }
      ],
      "execution_count": 32
    },
    {
      "id": "7389b32d-7036-4f9c-8431-01f60d383c3b",
      "cell_type": "code",
      "source": "from PIL import Image\nimg = Image.open(\"images.png\")\nprint(type(img))\nprint(img)",
      "metadata": {
        "trusted": true
      },
      "outputs": [
        {
          "name": "stdout",
          "output_type": "stream",
          "text": "<class 'PIL.PngImagePlugin.PngImageFile'>\n<PIL.PngImagePlugin.PngImageFile image mode=P size=225x225 at 0x6D208E0>\n"
        }
      ],
      "execution_count": 38
    },
    {
      "id": "4adffa1c-6875-474f-a952-53310543818e",
      "cell_type": "code",
      "source": "img_np_array = np.array(img)\nprint(type(img_np_array))\nprint(img_np_array.shape)",
      "metadata": {
        "trusted": true
      },
      "outputs": [
        {
          "name": "stdout",
          "output_type": "stream",
          "text": "<class 'numpy.ndarray'>\n(225, 225)\n"
        }
      ],
      "execution_count": 39
    },
    {
      "id": "119cad7a-c039-48c2-abf8-b2286c48910f",
      "cell_type": "code",
      "source": "with open('numpy logo.npy', 'wb') as logo_file:\n  np.save(logo_file, img_np_array)",
      "metadata": {
        "trusted": true
      },
      "outputs": [],
      "execution_count": 40
    },
    {
      "id": "e057198c-3f34-4823-ae84-0441b8c873b3",
      "cell_type": "code",
      "source": "try:\n    logo = np.load(\"numpy logo.npy\")\n\n    # Display\n    plt.figure(figsize=(10,5))\n    plt.subplot(121)\n    plt.title(\"Numpy logo\")\n    plt.imshow(logo)\n\n    dark_logo = 1-logo\n    plt.subplot(122)\n    plt.imshow(dark_logo)\nexcept FileNotFoundError:\n    print(\"image file not found\")",
      "metadata": {
        "trusted": true
      },
      "outputs": [
        {
          "output_type": "display_data",
          "data": {
            "text/plain": "<Figure size 1000x500 with 2 Axes>",
            "image/png": "[encoded data removed]"
          },
          "metadata": {}
        }
      ],
      "execution_count": 45
    },
    {
      "id": "bfb6670d-e09b-470b-9d33-dd164ff7094e",
      "cell_type": "code",
      "source": "",
      "metadata": {
        "trusted": true
      },
      "outputs": [],
      "execution_count": null
    }
  ]
}